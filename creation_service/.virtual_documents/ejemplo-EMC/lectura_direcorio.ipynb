import os
import json
from strgen import StringGenerator

directorio = '/home/vrodben1/serverless-data-drift-detection/servicios/ejemplo-EMC/archivos'
N_embedding = 4
while (1):
    contenido_directorio = os.listdir(directorio)
    if len(contenido_directorio[1:]) >= N_embedding:
        datos_archivos = []
        for elemento in contenido_directorio[1:]:
            ruta_elemento = os.path.join(directorio, elemento)
            if os.path.isfile(ruta_elemento):
                with open(ruta_elemento, 'r') as archivo:
                    contenido = archivo.read()
                    datos_archivos.append(contenido)
                    os.remove(ruta_elemento)
        datos = {
            "alpha":0.05,
            "value": datos_archivos
        }
    
        print("Contenido de los archivos:")
        aleatorio = StringGenerator("[\w]{10}").render()
        print(aleatorio)
        direccion = directorio+"/EMC-"+str(aleatorio)+".txt"
        print(direccion)
        f = open(direccion, "a")
        f.write(str(datos))
        f.close()
        print(datos)
        break
    #else:
        #print("El directorio solo tiene "+str(len(contenido_directorio)-1)+" archivos.")


f = open(direccion, 'r')
lectura = f.read()
f.close()
print(lectura)









