import random
import os
from strgen import StringGenerator
import json

datos_archivos = []
total= []
directorio = "/home/vrodben1/serverless-data-drift-detection/servicios/ejemplo-EMC/archivos"
for ii in range(1000):
    datos_archivos = []
    for i in range(4):
        x=random.random()
        datos_archivos.append(x)
    embedding= datos_archivos
    total.append(embedding)
datos = {
    "alpha":0.05,
    "value": total
        }
aleatorio = StringGenerator("[\w]{10}").render()
print(aleatorio)
direccion = directorio+"/EMC-"+str(aleatorio)+".txt"
print(direccion)
f = open(directorio+"/EMC-"+str(aleatorio)+".txt", "a")
f.write(str(datos))
f.close()




f = open(direccion, 'r')
lectura = f.read()
f.close()

 
# Le cambio a comillas dobles 
formatearjson = json.dumps(lectura)
  
# Imprimimos la respuesta JSON 
print(formatearjson)
print(formatearjson['alpha'])



