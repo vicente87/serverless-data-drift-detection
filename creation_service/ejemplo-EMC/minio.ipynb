{
 "cells": [
  {
   "cell_type": "code",
   "execution_count": 1,
   "id": "f954b5d8-1ae7-4e1a-8e7e-bd985e6cf817",
   "metadata": {},
   "outputs": [],
   "source": [
    "from minio import Minio\n",
    "import urllib3\n"
   ]
  },
  {
   "cell_type": "code",
   "execution_count": 2,
   "id": "9e90092f-2dd0-40c9-8b42-46a2d703e1f6",
   "metadata": {},
   "outputs": [],
   "source": [
    "\n",
    "client = Minio(\n",
    "    #\"localhost:30300\",\n",
    "    #\"minio.nervous-brahmagupta6.im.grycap.net\",\n",
    "    \"minio.frosty-grothendieck5.im.grycap.net\",\n",
    "    access_key=\"minio\",\n",
    "    #secret_key=\"MGE3YWI0\",\n",
    "    secret_key=\"minio123\",\n",
    "    secure=True,\n",
    "    region=\"us-east-1\",\n",
    "    \n",
    ")\n"
   ]
  },
  {
   "cell_type": "code",
   "execution_count": 3,
   "id": "b506be48-ae90-49cc-b86a-3a0182fefaef",
   "metadata": {},
   "outputs": [
    {
     "name": "stdout",
     "output_type": "stream",
     "text": [
      "dcachealzheimer 2023-02-28 08:03:36.768000+00:00\n",
      "dds 2023-06-08 10:03:01.569000+00:00\n",
      "drs 2023-06-08 08:31:24.519000+00:00\n",
      "emc 2023-06-08 08:33:40.403000+00:00\n",
      "grayify 2023-03-27 08:07:38.772000+00:00\n",
      "mls 2023-06-08 08:21:50.323000+00:00\n",
      "streamflowcowsay 2023-04-03 10:34:59.581000+00:00\n",
      "test 2023-06-08 10:45:19.131000+00:00\n",
      "upload 2023-06-08 08:21:49.859000+00:00\n"
     ]
    }
   ],
   "source": [
    "buckets = client.list_buckets()\n",
    "for bucket in buckets:\n",
    "    print(bucket.name, bucket.creation_date)"
   ]
  },
  {
   "cell_type": "code",
   "execution_count": 4,
   "id": "16784f46-9649-4d26-ab92-effd3defc304",
   "metadata": {},
   "outputs": [
    {
     "name": "stdout",
     "output_type": "stream",
     "text": [
      "my-bucket exists\n"
     ]
    }
   ],
   "source": [
    "if client.bucket_exists(\"drs\"):\n",
    "    print(\"my-bucket exists\")\n",
    "else:\n",
    "    print(\"my-bucket does not exist\")"
   ]
  },
  {
   "cell_type": "code",
   "execution_count": 5,
   "id": "54946ff4-efed-4346-82b6-715e603461c4",
   "metadata": {},
   "outputs": [
    {
     "name": "stdout",
     "output_type": "stream",
     "text": [
      "<minio.datatypes.Object object at 0x7fea6fd2f310>\n"
     ]
    }
   ],
   "source": [
    "objects = client.list_objects(\"drs\")\n",
    "for obj in objects:\n",
    "    print(obj)"
   ]
  },
  {
   "cell_type": "code",
   "execution_count": 8,
   "id": "050838e8-3c24-47ae-850a-e7b8e1872e62",
   "metadata": {},
   "outputs": [
    {
     "name": "stdout",
     "output_type": "stream",
     "text": [
      "0\n"
     ]
    }
   ],
   "source": [
    "objects = client.list_objects(\"drs\", prefix=\"output/\")\n",
    "a=0\n",
    "\n",
    "for obj in objects:\n",
    "    a=a+1\n",
    "    if a!=1:\n",
    "        print(obj)\n",
    "print(a-1)"
   ]
  },
  {
   "cell_type": "code",
   "execution_count": 13,
   "id": "8d498173-f193-42fd-a515-43c34e9b4a06",
   "metadata": {},
   "outputs": [
    {
     "name": "stdout",
     "output_type": "stream",
     "text": [
      "1\n"
     ]
    }
   ],
   "source": [
    "# Get data of an object.\n",
    "#objects = client.list_objects(\"embedding-matrix\", prefix=\"input/\",recursive=True, )\n",
    "import io\n",
    "import json\n",
    "import ast\n",
    "\n",
    "class Variable:\n",
    "    def __init__(self, alpha, value,return_input_values):\n",
    "        self.alpha = alpha\n",
    "        self.values = value\n",
    "        self.return_input_values= return_input_values\n",
    "\n",
    "objects = client.list_objects(\n",
    "        \"drs\", recursive=True, prefix=\"output/\",\n",
    "    )\n",
    "a=0\n",
    "for obj in objects:\n",
    "    a=a+1\n",
    "print(a)\n",
    "cont=3\n",
    "if a>=cont+1:\n",
    "    objects = client.list_objects(\n",
    "            \"drs\", recursive=True, prefix=\"output/\",\n",
    "            )\n",
    "    datos_archivos=[]\n",
    "    z=0\n",
    "    for i in objects:\n",
    "        z=z+1\n",
    "        if z!=1:\n",
    "            print(i)\n",
    "            response = client.get_object(\n",
    "                bucket_name = 'drs',\n",
    "                object_name= i.object_name\n",
    "            )\n",
    "            print(i.object_name)\n",
    "            x=str(response.read(),'utf-8')\n",
    "            x1=x.strip('\\n')\n",
    "            b = ast.literal_eval(x1)\n",
    "        \n",
    "            datos_archivos.append(b)\n",
    "        \n",
    "        #client.remove_object(\"embedding-matrix\", i.object_name)\n",
    "    print(datos_archivos)    \n",
    "    valores=Variable(float('0.05'),datos_archivos,True)\n",
    "    print(valores)\n",
    "    datos = json.dumps(valores.__dict__)\n",
    "    f = open(\"direccionEMC.json\", \"w\")\n",
    "    f.write(str(datos))\n",
    "    f.close()\n",
    "#client.put_object( \"embedding-matrix\", \"/input/\", io.BytesIO(b\"\"), 0, )\n",
    "\n",
    "#print(datos)    "
   ]
  },
  {
   "cell_type": "code",
   "execution_count": null,
   "id": "b51c3050-c195-417e-be4b-b956c9c25c29",
   "metadata": {},
   "outputs": [],
   "source": []
  },
  {
   "cell_type": "code",
   "execution_count": null,
   "id": "5facd975-ff4c-4032-8715-19e5b79069b1",
   "metadata": {},
   "outputs": [],
   "source": [
    "img = len(sys.argv)\n",
    "print(\"len--\"+str(img))\n",
    "\n",
    "archivo_name = sys.argv[1]\n",
    "print (\"1----\"+str(archivo_name))\n",
    "\n",
    "directory= sys.argv[2]\n",
    "print(\"2----\"+str(directory))\n",
    "\n",
    "pos=directory.find(archivo_name)\n",
    "print(pos)\n",
    "carpeta= directory[0:pos-1]\n",
    "print(carpeta)\n",
    "\n",
    "cant_archivo= os.listdir(carpeta)\n",
    "print(cant_archivo)\n",
    "\n",
    "existe=os.path.exists(carpeta)\n",
    "print(existe)\n",
    "\n",
    "salida= sys.argv[3]\n",
    "print(\"3----\"+ str(salida))"
   ]
  }
 ],
 "metadata": {
  "kernelspec": {
   "display_name": "Python 3 (ipykernel)",
   "language": "python",
   "name": "python3"
  },
  "language_info": {
   "codemirror_mode": {
    "name": "ipython",
    "version": 3
   },
   "file_extension": ".py",
   "mimetype": "text/x-python",
   "name": "python",
   "nbconvert_exporter": "python",
   "pygments_lexer": "ipython3",
   "version": "3.10.6"
  }
 },
 "nbformat": 4,
 "nbformat_minor": 5
}
