{
 "cells": [
  {
   "cell_type": "code",
   "execution_count": null,
   "id": "4334c3ca-c4fb-4dcb-b373-e74067f745db",
   "metadata": {},
   "outputs": [],
   "source": [
    "import os\n",
    "import json\n",
    "from strgen import StringGenerator\n",
    "\n",
    "directorio = '/home/vrodben1/serverless-data-drift-detection/servicios/ejemplo-EMC/archivos'\n",
    "N_embedding = 4\n",
    "while (1):\n",
    "    contenido_directorio = os.listdir(directorio)\n",
    "    if len(contenido_directorio[1:]) >= N_embedding:\n",
    "        datos_archivos = []\n",
    "        for elemento in contenido_directorio[1:]:\n",
    "            ruta_elemento = os.path.join(directorio, elemento)\n",
    "            if os.path.isfile(ruta_elemento):\n",
    "                with open(ruta_elemento, 'r') as archivo:\n",
    "                    contenido = archivo.read()\n",
    "                    datos_archivos.append(contenido)\n",
    "                    os.remove(ruta_elemento)\n",
    "        datos = {\n",
    "            \"alpha\":0.05,\n",
    "            \"value\": datos_archivos\n",
    "        }\n",
    "    \n",
    "        print(\"Contenido de los archivos:\")\n",
    "        aleatorio = StringGenerator(\"[\\w]{10}\").render()\n",
    "        print(aleatorio)\n",
    "        direccion = directorio+\"/EMC-\"+str(aleatorio)+\".txt\"\n",
    "        print(direccion)\n",
    "        f = open(direccion, \"a\")\n",
    "        f.write(str(datos))\n",
    "        f.close()\n",
    "        print(datos)\n",
    "        break\n",
    "    #else:\n",
    "        #print(\"El directorio solo tiene \"+str(len(contenido_directorio)-1)+\" archivos.\")"
   ]
  },
  {
   "cell_type": "code",
   "execution_count": null,
   "id": "04952ab2-efb1-4bac-b92c-142a9be776ec",
   "metadata": {},
   "outputs": [],
   "source": [
    "f = open(direccion, 'r')\n",
    "lectura = f.read()\n",
    "f.close()\n",
    "print(lectura)"
   ]
  },
  {
   "cell_type": "code",
   "execution_count": 1,
   "id": "08b856ed-91f8-4180-ba4a-d0b478013b39",
   "metadata": {},
   "outputs": [
    {
     "name": "stdout",
     "output_type": "stream",
     "text": [
      "3\n",
      "in\n"
     ]
    }
   ],
   "source": [
    "direc=\"in/imagen.jpg\"\n",
    "pos=direc.find(\"imagen.jpg\")\n",
    "print(pos)\n",
    "carpeta= direc[0:pos-1]\n",
    "print(carpeta)"
   ]
  },
  {
   "cell_type": "code",
   "execution_count": null,
   "id": "86ef0b69-2bb4-48b5-9d3a-2ed0c092ba54",
   "metadata": {},
   "outputs": [],
   "source": []
  },
  {
   "cell_type": "code",
   "execution_count": null,
   "id": "64af3f13-2372-4cd2-b1f4-bf99a302fe2c",
   "metadata": {},
   "outputs": [],
   "source": []
  }
 ],
 "metadata": {
  "kernelspec": {
   "display_name": "Python 3 (ipykernel)",
   "language": "python",
   "name": "python3"
  },
  "language_info": {
   "codemirror_mode": {
    "name": "ipython",
    "version": 3
   },
   "file_extension": ".py",
   "mimetype": "text/x-python",
   "name": "python",
   "nbconvert_exporter": "python",
   "pygments_lexer": "ipython3",
   "version": "3.10.6"
  }
 },
 "nbformat": 4,
 "nbformat_minor": 5
}
