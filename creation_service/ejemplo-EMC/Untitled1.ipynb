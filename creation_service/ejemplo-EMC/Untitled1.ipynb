{
 "cells": [
  {
   "cell_type": "code",
   "execution_count": null,
   "id": "27d58340-2a93-43df-91af-ae1d5540b5e0",
   "metadata": {},
   "outputs": [],
   "source": [
    "import os\n",
    "import sys\n",
    "from minio import Minio\n",
    "import urllib3\n",
    "\n",
    "print(\"running ......\")\n",
    "\n",
    "client = Minio(\n",
    "    #\"localhost:30300\",\n",
    "    \"minio.minio:9000\",\n",
    "    access_key=\"minio\",\n",
    "    secret_key=\"MGE3YWI0\",\n",
    "    secure=False,\n",
    "    \n",
    ")\n",
    "\n",
    "if client.bucket_exists(\"embedding-matrix\"):\n",
    "    print(\"my-bucket exists\")\n",
    "else:\n",
    "    print(\"my-bucket does not exist\")\n",
    "objects = client.list_objects(\"embedding-matrix\", prefix=\"input/\")\n",
    "a=0\n",
    "for obj in objects:\n",
    "    a=a+1\n",
    "if a>=3:\n",
    "    datos_archivos = []\n",
    "    objects = client.list_objects(\"embedding-matrix\", prefix=\"input/\")\n",
    "    for i in objects:\n",
    "            print(i)\n",
    "            response = client.get_object(\n",
    "                bucket_name = 'embedding-matrix',\n",
    "                object_name= i.object_name\n",
    "            )\n",
    "            print(i.object_name)\n",
    "            #print(response.read())\n",
    "            datos_archivos.append(response.read())\n",
    "    datos = {\n",
    "            \"alpha\":0.05,\n",
    "            \"value\": datos_archivos\n",
    "        }\n",
    "\n",
    "    f = open(\"EMC.txt\", \"a\")\n",
    "    f.write(str(datos))\n",
    "    f.close()        \n",
    "else:\n",
    "    print(a)\n",
    "    \n",
    "    \n"
   ]
  }
 ],
 "metadata": {
  "kernelspec": {
   "display_name": "Python 3 (ipykernel)",
   "language": "python",
   "name": "python3"
  },
  "language_info": {
   "codemirror_mode": {
    "name": "ipython",
    "version": 3
   },
   "file_extension": ".py",
   "mimetype": "text/x-python",
   "name": "python",
   "nbconvert_exporter": "python",
   "pygments_lexer": "ipython3",
   "version": "3.10.6"
  }
 },
 "nbformat": 4,
 "nbformat_minor": 5
}
