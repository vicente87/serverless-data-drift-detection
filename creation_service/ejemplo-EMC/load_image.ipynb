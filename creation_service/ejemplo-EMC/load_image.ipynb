{
 "cells": [
  {
   "cell_type": "code",
   "execution_count": 1,
   "id": "629ce748-3bd9-475f-8fcc-258dfafe4906",
   "metadata": {},
   "outputs": [],
   "source": [
    "import os\n",
    "import time\n",
    "import io\n",
    "\n",
    "from minio import Minio\n",
    "import urllib3\n"
   ]
  },
  {
   "cell_type": "markdown",
   "id": "628779c6-9da3-44f0-9c64-18b36c78ed01",
   "metadata": {},
   "source": [
    "Create object to communicate with MinIO serve"
   ]
  },
  {
   "cell_type": "code",
   "execution_count": 2,
   "id": "5b4ca882-311e-4a1f-99a9-b5a8dab2944a",
   "metadata": {},
   "outputs": [],
   "source": [
    "client = Minio(\n",
    "    #\"localhost:30300\",\n",
    "    #\"minio.nervous-brahmagupta6.im.grycap.net\",\n",
    "    \"minio.frosty-grothendieck5.im.grycap.net\",\n",
    "    access_key=\"minio\",\n",
    "    #secret_key=\"MGE3YWI0\",\n",
    "    secret_key=\"minio123\",\n",
    "    secure=True,\n",
    "    region=\"us-east-1\",\n",
    "    \n",
    ")"
   ]
  },
  {
   "cell_type": "markdown",
   "id": "37aff120-c12e-49b5-b4a8-52688999864e",
   "metadata": {},
   "source": [
    "List the directory where the images to be loaded are located"
   ]
  },
  {
   "cell_type": "code",
   "execution_count": 3,
   "id": "d4684021-612a-403c-b55e-d6278305cdee",
   "metadata": {},
   "outputs": [
    {
     "name": "stdout",
     "output_type": "stream",
     "text": [
      "['test_mnist.png', '123.png', '4321.png', '1234.png', '234.png']\n"
     ]
    }
   ],
   "source": [
    "directorio = '/home/vrodben1/serverless-data-drift-detection/Images'\n",
    "contenido_directorio = os.listdir(directorio)\n",
    "print(contenido_directorio)\n",
    "    "
   ]
  },
  {
   "cell_type": "markdown",
   "id": "ce596181-19a2-47fa-837e-dc3d4a0281c3",
   "metadata": {},
   "source": [
    "Take the content of the images and send them to the input bucket (upload/input) so that serverless-drift-detection is executed"
   ]
  },
  {
   "cell_type": "code",
   "execution_count": null,
   "id": "5426412b-b6bc-4410-89ca-ee24a0245204",
   "metadata": {},
   "outputs": [],
   "source": [
    "for elemento in contenido_directorio:\n",
    "            ruta_elemento = os.path.join(directorio, elemento)\n",
    "            print(ruta_elemento)\n",
    "            if os.path.isfile(ruta_elemento):\n",
    "                with open(ruta_elemento, 'rb') as archivo:\n",
    "                    contenido = archivo.read()\n",
    "                    print(contenido)\n",
    "                    time.sleep(0.2)\n",
    "                    result = client.put_object(\"upload\", \"input/\"+elemento, io.BytesIO(contenido), length=len(contenido),content_type=\"image/png\",)"
   ]
  },
  {
   "cell_type": "code",
   "execution_count": 4,
   "id": "1e4ef0fc-e917-4dac-9607-1a1861b8c050",
   "metadata": {},
   "outputs": [],
   "source": [
    "config = client.get_bucket_notification(\"test\")"
   ]
  },
  {
   "cell_type": "code",
   "execution_count": null,
   "id": "2464e23a-ecb7-4e56-9858-ddd0a55fa644",
   "metadata": {},
   "outputs": [
    {
     "name": "stdout",
     "output_type": "stream",
     "text": [
      "{'Records': [{'eventVersion': '2.0', 'eventSource': 'minio:s3', 'awsRegion': '', 'eventTime': '2023-06-09T10:46:06.151Z', 'eventName': 's3:ObjectCreated:Put', 'userIdentity': {'principalId': 'minio'}, 'requestParameters': {'principalId': 'minio', 'region': '', 'sourceIPAddress': '10.244.0.0'}, 'responseElements': {'content-length': '0', 'x-amz-request-id': '1766F7CC06196D25', 'x-minio-deployment-id': '60f9ecc6-5470-44da-b4ee-7f4c325743fb', 'x-minio-origin-endpoint': 'https://minio.frosty-grothendieck5.im.grycap.net'}, 's3': {'s3SchemaVersion': '1.0', 'configurationId': 'Config', 'bucket': {'name': 'test', 'ownerIdentity': {'principalId': 'minio'}, 'arn': 'arn:aws:s3:::test'}, 'object': {'key': 'input/234.png', 'size': 254, 'eTag': '464896ce7eb3a979a17ca4a72663b252', 'contentType': 'image/png', 'userMetadata': {'content-type': 'image/png'}, 'versionId': 'b4457c59-84f1-4be5-b484-0ad2d212e015', 'sequencer': '1766F7CC0681EE24'}}, 'source': {'host': '10.244.0.0', 'port': '', 'userAgent': 'MinIO (linux; amd64) minio-go/v7.0.43 MinIO Console/(dev)'}}]}\n",
      "dict_keys(['Records'])\n",
      "dict_keys(['eventVersion', 'eventSource', 'awsRegion', 'eventTime', 'eventName', 'userIdentity', 'requestParameters', 'responseElements', 's3', 'source'])\n",
      "input/234.png\n",
      "b\"\\x89PNG\\r\\n\\x1a\\n\\x00\\x00\\x00\\rIHDR\\x00\\x00\\x00\\x1c\\x00\\x00\\x00\\x1c\\x08\\x00\\x00\\x00\\x00Wf\\x80H\\x00\\x00\\x00\\xc5IDATx\\x9cc`\\x186\\x80\\x11B\\x85\\xa4>\\xfb\\xb1\\xf4\\xc5\\x1d\\xec\\x92\\xf7\\x14\\x18\\x18\\x18>_\\x85\\n>\\xe9:\\xc3\\xc0\\xc0\\xc0\\xc0\\xc0\\x02\\xe1\\xa6\\xea_\\xd32t\\xb0x,\\xcb\\xc0\\xf0\\xe7\\xb5$\\xc3\\xa33\\xc8:\\x19\\x18\\x18\\x18\\x18\\x04\\r\\xcf\\x9820\\xfc\\xb8u](g\\x1a.g\\x04\\xff\\xbd(\\x84KN\\xec\\xe5\\xff`(\\x93\\tC2[\\xf4\\xfdM\\\\\\x1a\\xad\\x7f\\xfe\\xb3\\xc3%\\xc7\\xd0\\xfao7+.9\\xce\\xb3?\\xacpj\\xac\\xfb\\xb7\\r\\xa7\\x9c\\xf7\\xef\\x0f\\x96\\xb8\\xe4\\x84\\xef\\xfe[\\x86K\\x8e\\xf9\\xf4\\xbf\\xdb\\xca\\xb8$\\xd5\\xfe\\xfd\\xf3\\xc5%'\\xff\\xe0_1#.\\xc9\\xd6\\x7f\\xffLp\\xc9\\xd9~B\\x97D\\n[\\x1b\\x1e\\x86\\xbb_P$Y\\x909\\x17\\x9d\\xdf\\xe12\\x16\\x13\\x00\\x00i\\x11<\\x90\\x9b\\x87\\xae\\x00\\x00\\x00\\x00\\x00IEND\\xaeB`\\x82\"\n"
     ]
    }
   ],
   "source": [
    "with client.listen_bucket_notification(\n",
    "    \"test\",\n",
    "    prefix=\"input/\",\n",
    "    events=[\"s3:ObjectCreated:*\", \"s3:ObjectRemoved:*\"],\n",
    ") as events:\n",
    "    for event in events:\n",
    "        #print(event)\n",
    "        \n",
    "        client.delete_bucket_notification(\"test\")\n",
    "        d=event.keys()\n",
    "        #print(d)\n",
    "        k=event['Records']\n",
    "        z=k[0]\n",
    "        #print(z.keys())\n",
    "        z1=z['s3']['object']\n",
    "        #print(z1['key'])\n",
    "        response = client.get_object(\"test\",z1['key'])\n",
    "        x=str(response.read())\n",
    "        print(x)\n",
    "        \n",
    "\n",
    "        \n",
    "        \n",
    "       \n",
    "        \n"
   ]
  },
  {
   "cell_type": "code",
   "execution_count": 2,
   "id": "d33e06c5-96d2-4c0b-98ae-c7332ad72855",
   "metadata": {},
   "outputs": [
    {
     "data": {
      "text/plain": [
       "16.366666666666667"
      ]
     },
     "execution_count": 2,
     "metadata": {},
     "output_type": "execute_result"
    }
   ],
   "source": [
    "982/60"
   ]
  },
  {
   "cell_type": "code",
   "execution_count": null,
   "id": "3088012f-a6cd-48d6-a423-a29efc2b6ef0",
   "metadata": {},
   "outputs": [],
   "source": []
  }
 ],
 "metadata": {
  "kernelspec": {
   "display_name": "Python 3 (ipykernel)",
   "language": "python",
   "name": "python3"
  },
  "language_info": {
   "codemirror_mode": {
    "name": "ipython",
    "version": 3
   },
   "file_extension": ".py",
   "mimetype": "text/x-python",
   "name": "python",
   "nbconvert_exporter": "python",
   "pygments_lexer": "ipython3",
   "version": "3.10.6"
  }
 },
 "nbformat": 4,
 "nbformat_minor": 5
}
