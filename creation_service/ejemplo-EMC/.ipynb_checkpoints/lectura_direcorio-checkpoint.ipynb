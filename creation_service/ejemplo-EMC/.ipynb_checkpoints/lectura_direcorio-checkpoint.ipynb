{
 "cells": [
  {
   "cell_type": "code",
   "execution_count": 8,
   "id": "4334c3ca-c4fb-4dcb-b373-e74067f745db",
   "metadata": {},
   "outputs": [
    {
     "ename": "FileNotFoundError",
     "evalue": "[Errno 2] No such file or directory: '/home/vrodben1/Cursos UPV/serverless-data-dri/servicios/ejemplo-EMC/archivos/'",
     "output_type": "error",
     "traceback": [
      "\u001b[0;31m---------------------------------------------------------------------------\u001b[0m",
      "\u001b[0;31mFileNotFoundError\u001b[0m                         Traceback (most recent call last)",
      "Cell \u001b[0;32mIn[8], line 8\u001b[0m\n\u001b[1;32m      6\u001b[0m N_embedding \u001b[38;5;241m=\u001b[39m \u001b[38;5;241m3\u001b[39m\n\u001b[1;32m      7\u001b[0m \u001b[38;5;28;01mwhile\u001b[39;00m (\u001b[38;5;241m1\u001b[39m):\n\u001b[0;32m----> 8\u001b[0m     contenido_directorio \u001b[38;5;241m=\u001b[39m \u001b[43mos\u001b[49m\u001b[38;5;241;43m.\u001b[39;49m\u001b[43mlistdir\u001b[49m\u001b[43m(\u001b[49m\u001b[43mdirectorio\u001b[49m\u001b[43m)\u001b[49m\n\u001b[1;32m     10\u001b[0m     \u001b[38;5;28;01mif\u001b[39;00m \u001b[38;5;28mlen\u001b[39m(contenido_directorio[\u001b[38;5;241m1\u001b[39m:]) \u001b[38;5;241m==\u001b[39m N_embedding:\n\u001b[1;32m     11\u001b[0m         datos_archivos \u001b[38;5;241m=\u001b[39m []\n",
      "\u001b[0;31mFileNotFoundError\u001b[0m: [Errno 2] No such file or directory: '/home/vrodben1/Cursos UPV/serverless-data-dri/servicios/ejemplo-EMC/archivos/'"
     ]
    }
   ],
   "source": [
    "import os\n",
    "import json\n",
    "from strgen import StringGenerator\n",
    "\n",
    "directorio = \"/home/vrodben1/Cursos UPV/serverless-data-dri/servicios/ejemplo-EMC/archivos/\"\n",
    "N_embedding = 3\n",
    "while (1):\n",
    "    contenido_directorio = os.listdir(directorio)\n",
    "\n",
    "    if len(contenido_directorio[1:]) == N_embedding:\n",
    "        datos_archivos = []\n",
    "        for elemento in contenido_directorio[1:]:\n",
    "            ruta_elemento = os.path.join(directorio, elemento)\n",
    "            if os.path.isfile(ruta_elemento):\n",
    "                with open(ruta_elemento, 'r') as archivo:\n",
    "                    contenido = archivo.read()\n",
    "                    datos_archivos.append(contenido)\n",
    "                    os.remove(ruta_elemento)\n",
    "        datos = {\n",
    "            \"alpha\":0.05,\n",
    "            \"value\": datos_archivos\n",
    "        }\n",
    "    \n",
    "        print(\"Contenido de los archivos:\")\n",
    "        aleatorio = StringGenerator(\"[\\w]{10}\").render()\n",
    "        print(aleatorio)\n",
    "        direccion = directorio+\"/EMC-\"+str(aleatorio)+\".txt\"\n",
    "        f = open(direccion, \"a\")\n",
    "        f.write(str(datos))\n",
    "        f.close()\n",
    "        \n",
    "        print(datos)\n",
    "        break\n",
    "    #else:\n",
    "        #print(\"El directorio solo tiene \"+str(len(contenido_directorio)-1)+\" archivos.\")"
   ]
  },
  {
   "cell_type": "code",
   "execution_count": 5,
   "id": "04952ab2-efb1-4bac-b92c-142a9be776ec",
   "metadata": {},
   "outputs": [
    {
     "ename": "NameError",
     "evalue": "name 'direccion' is not defined",
     "output_type": "error",
     "traceback": [
      "\u001b[0;31m---------------------------------------------------------------------------\u001b[0m",
      "\u001b[0;31mNameError\u001b[0m                                 Traceback (most recent call last)",
      "Cell \u001b[0;32mIn[5], line 1\u001b[0m\n\u001b[0;32m----> 1\u001b[0m f \u001b[38;5;241m=\u001b[39m \u001b[38;5;28mopen\u001b[39m(\u001b[43mdireccion\u001b[49m, \u001b[38;5;124m'\u001b[39m\u001b[38;5;124mr\u001b[39m\u001b[38;5;124m'\u001b[39m)\n\u001b[1;32m      2\u001b[0m lectura \u001b[38;5;241m=\u001b[39m f\u001b[38;5;241m.\u001b[39mread()\n\u001b[1;32m      3\u001b[0m f\u001b[38;5;241m.\u001b[39mclose()\n",
      "\u001b[0;31mNameError\u001b[0m: name 'direccion' is not defined"
     ]
    }
   ],
   "source": [
    "f = open(direccion, 'r')\n",
    "lectura = f.read()\n",
    "f.close()\n",
    "print(lectura)"
   ]
  },
  {
   "cell_type": "code",
   "execution_count": null,
   "id": "08b856ed-91f8-4180-ba4a-d0b478013b39",
   "metadata": {},
   "outputs": [],
   "source": []
  },
  {
   "cell_type": "code",
   "execution_count": null,
   "id": "86ef0b69-2bb4-48b5-9d3a-2ed0c092ba54",
   "metadata": {},
   "outputs": [],
   "source": []
  },
  {
   "cell_type": "code",
   "execution_count": null,
   "id": "64af3f13-2372-4cd2-b1f4-bf99a302fe2c",
   "metadata": {},
   "outputs": [],
   "source": []
  }
 ],
 "metadata": {
  "kernelspec": {
   "display_name": "Python 3 (ipykernel)",
   "language": "python",
   "name": "python3"
  },
  "language_info": {
   "codemirror_mode": {
    "name": "ipython",
    "version": 3
   },
   "file_extension": ".py",
   "mimetype": "text/x-python",
   "name": "python",
   "nbconvert_exporter": "python",
   "pygments_lexer": "ipython3",
   "version": "3.10.6"
  }
 },
 "nbformat": 4,
 "nbformat_minor": 5
}
