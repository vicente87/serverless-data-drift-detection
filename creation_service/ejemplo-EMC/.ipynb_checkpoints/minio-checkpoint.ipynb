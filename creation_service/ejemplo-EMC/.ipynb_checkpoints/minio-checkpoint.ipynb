{
 "cells": [
  {
   "cell_type": "code",
   "execution_count": 27,
   "id": "f954b5d8-1ae7-4e1a-8e7e-bd985e6cf817",
   "metadata": {},
   "outputs": [],
   "source": [
    "from minio import Minio\n",
    "import urllib3"
   ]
  },
  {
   "cell_type": "code",
   "execution_count": 33,
   "id": "9e90092f-2dd0-40c9-8b42-46a2d703e1f6",
   "metadata": {},
   "outputs": [],
   "source": [
    "\n",
    "client = Minio(\n",
    "    \"localhost:30300\",\n",
    "    access_key=\"minio\",\n",
    "    secret_key=\"MGE3YWI0\",\n",
    "    secure=False,\n",
    "    \n",
    ")\n"
   ]
  },
  {
   "cell_type": "code",
   "execution_count": 34,
   "id": "b506be48-ae90-49cc-b86a-3a0182fefaef",
   "metadata": {},
   "outputs": [
    {
     "name": "stdout",
     "output_type": "stream",
     "text": [
      "dimensionality 2023-05-26 09:19:51.357000+00:00\n",
      "drift-detection 2023-05-31 12:09:06.695000+00:00\n",
      "embedding-matrix 2023-06-05 07:32:36.181000+00:00\n",
      "grayify 2023-02-17 09:02:55.797000+00:00\n",
      "ml-inference 2023-06-02 10:20:23.566000+00:00\n",
      "plants 2023-02-17 09:10:10.484000+00:00\n",
      "text-to-speech-google 2023-02-17 09:10:51.460000+00:00\n"
     ]
    }
   ],
   "source": [
    "buckets = client.list_buckets()\n",
    "for bucket in buckets:\n",
    "    print(bucket.name, bucket.creation_date)"
   ]
  },
  {
   "cell_type": "code",
   "execution_count": 37,
   "id": "16784f46-9649-4d26-ab92-effd3defc304",
   "metadata": {},
   "outputs": [
    {
     "name": "stdout",
     "output_type": "stream",
     "text": [
      "my-bucket exists\n"
     ]
    }
   ],
   "source": [
    "if client.bucket_exists(\"embedding-matrix\"):\n",
    "    print(\"my-bucket exists\")\n",
    "else:\n",
    "    print(\"my-bucket does not exist\")"
   ]
  },
  {
   "cell_type": "code",
   "execution_count": 38,
   "id": "54946ff4-efed-4346-82b6-715e603461c4",
   "metadata": {},
   "outputs": [
    {
     "name": "stdout",
     "output_type": "stream",
     "text": [
      "<minio.datatypes.Object object at 0x7ff78a57f040>\n",
      "<minio.datatypes.Object object at 0x7ff78a57f340>\n"
     ]
    }
   ],
   "source": [
    "objects = client.list_objects(\"embedding-matrix\")\n",
    "for obj in objects:\n",
    "    print(obj)"
   ]
  },
  {
   "cell_type": "code",
   "execution_count": 39,
   "id": "050838e8-3c24-47ae-850a-e7b8e1872e62",
   "metadata": {},
   "outputs": [
    {
     "name": "stdout",
     "output_type": "stream",
     "text": [
      "<minio.datatypes.Object object at 0x7ff78a57eb30>\n"
     ]
    }
   ],
   "source": [
    "objects = client.list_objects(\"embedding-matrix\", prefix=\"input\")\n",
    "for obj in objects:\n",
    "    print(obj)"
   ]
  },
  {
   "cell_type": "code",
   "execution_count": null,
   "id": "8d498173-f193-42fd-a515-43c34e9b4a06",
   "metadata": {},
   "outputs": [],
   "source": []
  }
 ],
 "metadata": {
  "kernelspec": {
   "display_name": "Python 3 (ipykernel)",
   "language": "python",
   "name": "python3"
  },
  "language_info": {
   "codemirror_mode": {
    "name": "ipython",
    "version": 3
   },
   "file_extension": ".py",
   "mimetype": "text/x-python",
   "name": "python",
   "nbconvert_exporter": "python",
   "pygments_lexer": "ipython3",
   "version": "3.10.6"
  }
 },
 "nbformat": 4,
 "nbformat_minor": 5
}
