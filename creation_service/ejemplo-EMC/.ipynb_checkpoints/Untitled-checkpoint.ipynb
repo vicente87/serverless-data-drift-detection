{
 "cells": [
  {
   "cell_type": "code",
   "execution_count": 15,
   "id": "3bd5203c-6536-4649-90d9-56f62c3b8bde",
   "metadata": {},
   "outputs": [
    {
     "name": "stdout",
     "output_type": "stream",
     "text": [
      "FOCNFVVxgr\n",
      "/home/vrodben1/serverless-data-drift-detection/servicios/ejemplo-EMC/archivos/EMC-FOCNFVVxgr.json\n"
     ]
    }
   ],
   "source": [
    "import random\n",
    "import os\n",
    "from strgen import StringGenerator\n",
    "import json\n",
    "\n",
    "class Usuario:\n",
    "    def __init__(self, alpha, value,return_input_values):\n",
    "        self.alpha = alpha\n",
    "        self.values = value\n",
    "        self.return_input_values= return_input_values\n",
    "\n",
    "\n",
    "datos_archivos = []\n",
    "total= []\n",
    "directorio = \"/home/vrodben1/serverless-data-drift-detection/servicios/ejemplo-EMC/archivos\"\n",
    "for ii in range(1000):\n",
    "    datos_archivos = []\n",
    "    for i in range(4):\n",
    "        x=float(random.random())\n",
    "        datos_archivos.append(x)\n",
    "    embedding= datos_archivos\n",
    "    total.append(embedding)\n",
    "valores=Usuario(float('0.05'),total,True)\n",
    "datos = json.dumps(valores.__dict__)\n",
    "\n",
    "aleatorio = StringGenerator(\"[\\w]{10}\").render()\n",
    "print(aleatorio)\n",
    "direccion = directorio+\"/EMC-\"+str(aleatorio)+\".json\"\n",
    "print(direccion)\n",
    "f = open(directorio+\"/EMC-\"+str(aleatorio)+\".json\", \"a\")\n",
    "f.write(str(datos))\n",
    "f.close()\n",
    "\n",
    "\n"
   ]
  },
  {
   "cell_type": "code",
   "execution_count": 25,
   "id": "9eca1735-b69b-4515-9c61-f588c6071d9b",
   "metadata": {},
   "outputs": [
    {
     "ename": "SyntaxError",
     "evalue": "'(' was never closed (2289367905.py, line 10)",
     "output_type": "error",
     "traceback": [
      "\u001b[0;36m  Cell \u001b[0;32mIn[25], line 10\u001b[0;36m\u001b[0m\n\u001b[0;31m    print(np.array(payload['values'].tolist())\u001b[0m\n\u001b[0m         ^\u001b[0m\n\u001b[0;31mSyntaxError\u001b[0m\u001b[0;31m:\u001b[0m '(' was never closed\n"
     ]
    }
   ],
   "source": [
    "#f = open(direccion, 'r')\n",
    "#lectura = f.read()\n",
    "#f.close()\n",
    "import numpy as np\n",
    "with open(direccion) as f:\n",
    "    payload = json.load(f)\n",
    "#print(payload)\n",
    "y=np.array(payload['values'])\n",
    "print(type(y))\n",
    "print(np.array(payload['values'].tolist())\n",
    " \n",
    "# Le cambio a comillas dobles \n",
    "x=payload['alpha']\n",
    "print(x)"
   ]
  },
  {
   "cell_type": "code",
   "execution_count": 16,
   "id": "e5aa1d32-0b7f-4f71-9c2c-7e6314576357",
   "metadata": {},
   "outputs": [
    {
     "name": "stdout",
     "output_type": "stream",
     "text": [
      "OgKi9z2UfM\n",
      "/home/vrodben1/serverless-data-drift-detection/servicios/ejemplo-EMC/archivos/EMC-OgKi9z2UfM.json\n"
     ]
    }
   ],
   "source": [
    "import random\n",
    "import os\n",
    "from strgen import StringGenerator\n",
    "import json\n",
    "\n",
    "datos_archivos = []\n",
    "total= []\n",
    "directorio = \"/home/vrodben1/serverless-data-drift-detection/servicios/ejemplo-EMC/archivos\"\n",
    "for ii in range(10):\n",
    "    datos_archivos = []\n",
    "    for i in range(4):\n",
    "        x=random.random()\n",
    "        datos_archivos.append(x)\n",
    "    embedding= datos_archivos\n",
    "    total.append(embedding)\n",
    "datos ={\n",
    "    \"alpha\":0.05,\n",
    "    \"value\":total\n",
    "    }\n",
    "\n",
    "aleatorio = StringGenerator(\"[\\w]{10}\").render()\n",
    "print(aleatorio)\n",
    "direccion = directorio+\"/EMC-\"+str(aleatorio)+\".json\"\n",
    "print(direccion)\n",
    "f = open(directorio+\"/EMC-\"+str(aleatorio)+\".json\", \"a\")\n",
    "f.write(str(datos))\n",
    "f.close()\n",
    "\n"
   ]
  },
  {
   "cell_type": "code",
   "execution_count": null,
   "id": "ae9d63f1-7d80-46ab-94c1-ab0be2147683",
   "metadata": {},
   "outputs": [],
   "source": []
  }
 ],
 "metadata": {
  "kernelspec": {
   "display_name": "Python 3 (ipykernel)",
   "language": "python",
   "name": "python3"
  },
  "language_info": {
   "codemirror_mode": {
    "name": "ipython",
    "version": 3
   },
   "file_extension": ".py",
   "mimetype": "text/x-python",
   "name": "python",
   "nbconvert_exporter": "python",
   "pygments_lexer": "ipython3",
   "version": "3.10.6"
  }
 },
 "nbformat": 4,
 "nbformat_minor": 5
}
