import os
import time
import io

from minio import Minio
import urllib3
10000/10/60


client = Minio(
    #"localhost:30300",
    #"minio.nervous-brahmagupta6.im.grycap.net",
    "minio.frosty-grothendieck5.im.grycap.net",
    access_key="minio",
    #secret_key="MGE3YWI0",
    secret_key="minio123",
    secure=True,
    region="us-east-1",
    
)


directorio = '/home/vrodben1/serverless-data-drift-detection/Images'
contenido_directorio = os.listdir(directorio)
print(contenido_directorio)
    


for elemento in contenido_directorio:
            ruta_elemento = os.path.join(directorio, elemento)
            print(ruta_elemento)
            if os.path.isfile(ruta_elemento):
                with open(ruta_elemento, 'rb') as archivo:
                    contenido = archivo.read()
                    print(contenido)
                    time.sleep(0.2)
                    result = client.put_object("upload", "input/"+elemento, io.BytesIO(contenido), length=len(contenido),content_type="image/png",)



