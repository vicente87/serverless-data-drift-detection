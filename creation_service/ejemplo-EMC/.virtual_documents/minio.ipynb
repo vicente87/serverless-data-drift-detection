from minio import Minio
import urllib3




client = Minio(
    #"localhost:30300",
    #"minio.nervous-brahmagupta6.im.grycap.net",
    "minio.frosty-grothendieck5.im.grycap.net",
    access_key="minio",
    #secret_key="MGE3YWI0",
    secret_key="minio123",
    secure=True,
    region="us-east-1",
    
)



buckets = client.list_buckets()
for bucket in buckets:
    print(bucket.name, bucket.creation_date)


if client.bucket_exists("drs"):
    print("my-bucket exists")
else:
    print("my-bucket does not exist")


objects = client.list_objects("drs")
for obj in objects:
    print(obj)


objects = client.list_objects("drs", prefix="output/")
a=0
for obj in objects:
    a=a+1
    if a!=1:
        print(obj)
print(a-1)


# Get data of an object.
#objects = client.list_objects("embedding-matrix", prefix="input/",recursive=True, )
import io
import json
import ast

class Variable:
    def __init__(self, alpha, value,return_input_values):
        self.alpha = alpha
        self.values = value
        self.return_input_values= return_input_values

objects = client.list_objects(
        "drs", recursive=True, prefix="output/",
    )
a=0
for obj in objects:
    a=a+1
print(a)
cont=3
if a>=cont+1:
    objects = client.list_objects(
            "drs", recursive=True, prefix="output/",
            )
    datos_archivos=[]
    z=0
    for i in objects:
        z=z+1
        if z!=1:
            print(i)
            response = client.get_object(
                bucket_name = 'drs',
                object_name= i.object_name
            )
            print(i.object_name)
            x=str(response.read(),'utf-8')
            x1=x.strip('\n')
            b = ast.literal_eval(x1)
        
            datos_archivos.append(b)
        
        #client.remove_object("embedding-matrix", i.object_name)
    print(datos_archivos)    
    valores=Variable(float('0.05'),datos_archivos,True)
    print(valores)
    datos = json.dumps(valores.__dict__)
    f = open("direccionEMC.json", "w")
    f.write(str(datos))
    f.close()
#client.put_object( "embedding-matrix", "/input/", io.BytesIO(b""), 0, )

#print(datos)    





img = len(sys.argv)
print("len--"+str(img))

archivo_name = sys.argv[1]
print ("1----"+str(archivo_name))

directory= sys.argv[2]
print("2----"+str(directory))

pos=directory.find(archivo_name)
print(pos)
carpeta= directory[0:pos-1]
print(carpeta)

cant_archivo= os.listdir(carpeta)
print(cant_archivo)

existe=os.path.exists(carpeta)
print(existe)

salida= sys.argv[3]
print("3----"+ str(salida))
